{
 "cells": [
  {
   "cell_type": "code",
   "execution_count": 1,
   "id": "caa160bc-1c62-4870-a8e1-cbd88995bfb7",
   "metadata": {},
   "outputs": [],
   "source": [
    "import pandas as pd"
   ]
  },
  {
   "cell_type": "code",
   "execution_count": 2,
   "id": "9e28f1ee-7213-464e-a1bb-59052a9ccb4d",
   "metadata": {
    "tags": []
   },
   "outputs": [],
   "source": [
    "df=pd.read_pickle('shared/Project-3_NYC_311_Calls.pkl')"
   ]
  },
  {
   "cell_type": "code",
   "execution_count": 3,
   "id": "4c7c7613-c23b-460d-b2e4-515d254cf13d",
   "metadata": {
    "tags": []
   },
   "outputs": [],
   "source": [
    "df = df.set_index(pd.DatetimeIndex(df['Created Date']))\n",
    "\n",
    "del df['Created Date']"
   ]
  },
  {
   "cell_type": "code",
   "execution_count": 4,
   "id": "25fb86d2-58eb-4c0c-a5e0-14f5da6c3a89",
   "metadata": {
    "tags": []
   },
   "outputs": [],
   "source": [
    "#Q1"
   ]
  },
  {
   "cell_type": "code",
   "execution_count": 5,
   "id": "36371f35-4b68-43db-b1e1-ab1c2329402e",
   "metadata": {
    "tags": []
   },
   "outputs": [],
   "source": [
    "df.index = pd.to_datetime(df.index)"
   ]
  },
  {
   "cell_type": "code",
   "execution_count": 6,
   "id": "7f823a27-8cd6-44fd-8a35-0064cccbd05c",
   "metadata": {
    "tags": []
   },
   "outputs": [],
   "source": [
    "df_2022 = df[df.index.year == 2022]"
   ]
  },
  {
   "cell_type": "code",
   "execution_count": 7,
   "id": "9cbbd5ad-632d-4d2a-9084-ba4fae62371b",
   "metadata": {
    "tags": []
   },
   "outputs": [],
   "source": [
    "average_daily_complaints_2022 = df_2022['Unique Key'].resample('D').count().mean()"
   ]
  },
  {
   "cell_type": "code",
   "execution_count": 8,
   "id": "89c8f476-a487-48b5-9667-f7dc5a43dc3c",
   "metadata": {
    "tags": []
   },
   "outputs": [
    {
     "name": "stdout",
     "output_type": "stream",
     "text": [
      "The average number of daily complaints received in 2022 is: 8684.3\n"
     ]
    }
   ],
   "source": [
    "print(f\"The average number of daily complaints received in 2022 is: {average_daily_complaints_2022:.1f}\")"
   ]
  },
  {
   "cell_type": "code",
   "execution_count": 9,
   "id": "72b2ab50-2a42-453f-a8b8-2c5a660567bc",
   "metadata": {
    "tags": []
   },
   "outputs": [],
   "source": [
    "#Q2"
   ]
  },
  {
   "cell_type": "code",
   "execution_count": 10,
   "id": "4cad5d58-3b86-426f-a137-d27e29dbfe56",
   "metadata": {
    "tags": []
   },
   "outputs": [],
   "source": [
    "daily_call_count = df['Unique Key'].resample('D').count()"
   ]
  },
  {
   "cell_type": "code",
   "execution_count": 11,
   "id": "809b11f4-2689-406d-8660-836d026a6fd6",
   "metadata": {
    "tags": []
   },
   "outputs": [],
   "source": [
    "max_calls_date = daily_call_count.idxmax()"
   ]
  },
  {
   "cell_type": "code",
   "execution_count": 12,
   "id": "4a8e6969-d838-4f87-a0b8-afa449520206",
   "metadata": {
    "tags": []
   },
   "outputs": [
    {
     "name": "stdout",
     "output_type": "stream",
     "text": [
      "The date with the maximum number of calls is: 2020-08-04 00:00:00\n"
     ]
    }
   ],
   "source": [
    "print(f\"The date with the maximum number of calls is: {max_calls_date}\")"
   ]
  },
  {
   "cell_type": "code",
   "execution_count": 13,
   "id": "995fc0f8-a6ce-4946-9fb5-e6fe4dc34ca2",
   "metadata": {
    "tags": []
   },
   "outputs": [],
   "source": [
    "#Q3"
   ]
  },
  {
   "cell_type": "code",
   "execution_count": 14,
   "id": "d3c585a4-3378-4361-9da4-6eaf564ad4f2",
   "metadata": {
    "tags": []
   },
   "outputs": [],
   "source": [
    "max_calls_data = df[df.index.date == max_calls_date.date()]"
   ]
  },
  {
   "cell_type": "code",
   "execution_count": 15,
   "id": "4cfcd5bc-4028-41d5-a9a7-56886b54c748",
   "metadata": {
    "tags": []
   },
   "outputs": [],
   "source": [
    "most_common_complaint_type = max_calls_data['Complaint Type'].mode().iloc[0]"
   ]
  },
  {
   "cell_type": "code",
   "execution_count": 16,
   "id": "60080231-c17f-4f0f-8141-0227f4ba6e36",
   "metadata": {
    "tags": []
   },
   "outputs": [
    {
     "name": "stdout",
     "output_type": "stream",
     "text": [
      "On the date with the maximum number of calls (2020-08-04 00:00:00), the most important complaint type was: Damaged Tree\n"
     ]
    }
   ],
   "source": [
    "print(f\"On the date with the maximum number of calls ({max_calls_date}), the most important complaint type was: {most_common_complaint_type}\")"
   ]
  },
  {
   "cell_type": "code",
   "execution_count": 17,
   "id": "87932d1b-58d8-4c36-84e0-f178ffbcfb0b",
   "metadata": {
    "tags": []
   },
   "outputs": [],
   "source": [
    "#Q4"
   ]
  },
  {
   "cell_type": "code",
   "execution_count": 18,
   "id": "4f4478db-4496-495d-8ae9-f25b8f0b158c",
   "metadata": {
    "tags": []
   },
   "outputs": [],
   "source": [
    "monthly_call_count = df.groupby(df.index.month)['Unique Key'].count()"
   ]
  },
  {
   "cell_type": "code",
   "execution_count": 19,
   "id": "c61ae462-bc46-4722-8d0f-e815376f20b6",
   "metadata": {
    "tags": []
   },
   "outputs": [],
   "source": [
    "quietest_month = monthly_call_count.idxmin()"
   ]
  },
  {
   "cell_type": "code",
   "execution_count": 20,
   "id": "929172e0-16f0-457e-8215-233a6d5fef78",
   "metadata": {
    "tags": []
   },
   "outputs": [
    {
     "name": "stdout",
     "output_type": "stream",
     "text": [
      "The historically quietest month is: 12\n"
     ]
    }
   ],
   "source": [
    "print(f\"The historically quietest month is: {quietest_month}\")"
   ]
  },
  {
   "cell_type": "code",
   "execution_count": 21,
   "id": "050d7b67-e81e-4d78-a8d5-7906c31247f4",
   "metadata": {
    "tags": []
   },
   "outputs": [],
   "source": [
    "#Q5"
   ]
  },
  {
   "cell_type": "code",
   "execution_count": 22,
   "id": "62289389-23d0-412f-b469-6408ba4ff777",
   "metadata": {
    "tags": []
   },
   "outputs": [],
   "source": [
    "import matplotlib.pyplot as plt\n",
    "from statsmodels.tsa.seasonal import seasonal_decompose"
   ]
  },
  {
   "cell_type": "code",
   "execution_count": 27,
   "id": "ff89aa1f-2b9b-4c95-b278-9890ae2448c9",
   "metadata": {
    "tags": []
   },
   "outputs": [],
   "source": [
    "daily_series = df['Unique Key'].resample('D').count()"
   ]
  },
  {
   "cell_type": "code",
   "execution_count": 28,
   "id": "c4361133-b686-4e87-8f63-518f957dc3d3",
   "metadata": {},
   "outputs": [],
   "source": [
    "result = seasonal_decompose(daily_series, model = 'additive') "
   ]
  },
  {
   "cell_type": "code",
   "execution_count": 29,
   "id": "42a46756-cda4-4573-aac7-ac593cccb27d",
   "metadata": {
    "tags": []
   },
   "outputs": [
    {
     "name": "stdout",
     "output_type": "stream",
     "text": [
      "Seasonal component on 2020-12-25: 183.0\n"
     ]
    }
   ],
   "source": [
    "seasonal_component = result.seasonal['2020-12-25'].round()\n",
    "print(f\"Seasonal component on 2020-12-25: {seasonal_component}\")"
   ]
  },
  {
   "cell_type": "code",
   "execution_count": 30,
   "id": "d0d649be-30c7-4a87-b75a-6a12606a05e6",
   "metadata": {
    "tags": []
   },
   "outputs": [],
   "source": [
    "#Q6"
   ]
  },
  {
   "cell_type": "code",
   "execution_count": 31,
   "id": "d1775919-738a-44d5-abef-5f8a47001f59",
   "metadata": {
    "tags": []
   },
   "outputs": [
    {
     "name": "stdout",
     "output_type": "stream",
     "text": [
      "The autocorrelation with the number of calls the day prior (lag of 1) is: 0.75\n"
     ]
    }
   ],
   "source": [
    "autocorrelation_lag_1 = daily_call_count.autocorr(lag=1)\n",
    "\n",
    "print(f\"The autocorrelation with the number of calls the day prior (lag of 1) is: {autocorrelation_lag_1:.2f}\")"
   ]
  },
  {
   "cell_type": "code",
   "execution_count": 32,
   "id": "0a675e02-ba3c-4660-aa87-4d907e2363b0",
   "metadata": {
    "tags": []
   },
   "outputs": [],
   "source": [
    "#Q7"
   ]
  },
  {
   "cell_type": "code",
   "execution_count": 33,
   "id": "df1bce74-7ded-4969-9f78-8018e1b921be",
   "metadata": {
    "tags": []
   },
   "outputs": [],
   "source": [
    "from prophet import Prophet\n",
    "from sklearn.metrics import mean_squared_error\n",
    "import numpy as np"
   ]
  },
  {
   "cell_type": "code",
   "execution_count": 34,
   "id": "be7fe0a3-974a-4031-bd82-7d288620235f",
   "metadata": {
    "tags": []
   },
   "outputs": [
    {
     "name": "stderr",
     "output_type": "stream",
     "text": [
      "15:28:42 - cmdstanpy - INFO - Chain [1] start processing\n",
      "15:28:43 - cmdstanpy - INFO - Chain [1] done processing\n"
     ]
    },
    {
     "name": "stdout",
     "output_type": "stream",
     "text": [
      "The RMSE on the test set is: 1231.5\n"
     ]
    }
   ],
   "source": [
    "df_prophet = pd.DataFrame({'ds': daily_call_count.index, 'y': daily_call_count.values})\n",
    "train_size = int(len(df_prophet) - 90)\n",
    "train, test = df_prophet[0:train_size], df_prophet[train_size:]\n",
    "model = Prophet()\n",
    "model.fit(train)\n",
    "future = model.make_future_dataframe(periods=90)\n",
    "forecast = model.predict(future)\n",
    "y_true = test['y'].values\n",
    "y_pred = forecast.iloc[-90:]['yhat'].values\n",
    "rmse = np.sqrt(mean_squared_error(y_true, y_pred))\n",
    "print(f\"The RMSE on the test set is: {rmse:.1f}\")"
   ]
  },
  {
   "cell_type": "code",
   "execution_count": null,
   "id": "d723a79f-0987-4713-889b-227163928b37",
   "metadata": {},
   "outputs": [],
   "source": []
  }
 ],
 "metadata": {
  "kernelspec": {
   "display_name": "Python [conda env:mggy8413]",
   "language": "python",
   "name": "conda-env-mggy8413-py"
  },
  "language_info": {
   "codemirror_mode": {
    "name": "ipython",
    "version": 3
   },
   "file_extension": ".py",
   "mimetype": "text/x-python",
   "name": "python",
   "nbconvert_exporter": "python",
   "pygments_lexer": "ipython3",
   "version": "3.10.12"
  }
 },
 "nbformat": 4,
 "nbformat_minor": 5
}
